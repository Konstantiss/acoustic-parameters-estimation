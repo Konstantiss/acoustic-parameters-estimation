{
  "nbformat": 4,
  "nbformat_minor": 0,
  "metadata": {
    "colab": {
      "provenance": [],
      "authorship_tag": "ABX9TyMyxMVn4cjmhz+VrQeWxbNB",
      "include_colab_link": true
    },
    "kernelspec": {
      "name": "python3",
      "display_name": "Python 3"
    },
    "language_info": {
      "name": "python"
    }
  },
  "cells": [
    {
      "cell_type": "markdown",
      "metadata": {
        "id": "view-in-github",
        "colab_type": "text"
      },
      "source": [
        "<a href=\"https://colab.research.google.com/github/Konstantiss/thesis/blob/main/test_colab.ipynb\" target=\"_parent\"><img src=\"https://colab.research.google.com/assets/colab-badge.svg\" alt=\"Open In Colab\"/></a>"
      ]
    },
    {
      "cell_type": "code",
      "execution_count": 1,
      "metadata": {
        "colab": {
          "base_uri": "https://localhost:8080/"
        },
        "id": "wPRRURCDJ8mE",
        "outputId": "7d77460b-700d-4dbf-d07a-706d1e670309"
      },
      "outputs": [
        {
          "output_type": "stream",
          "name": "stdout",
          "text": [
            "1682690286.50281\n"
          ]
        }
      ],
      "source": [
        "import time\n",
        "print(time.time())"
      ]
    },
    {
      "cell_type": "code",
      "source": [],
      "metadata": {
        "id": "b5CKbMujKAj7"
      },
      "execution_count": null,
      "outputs": []
    }
  ]
}